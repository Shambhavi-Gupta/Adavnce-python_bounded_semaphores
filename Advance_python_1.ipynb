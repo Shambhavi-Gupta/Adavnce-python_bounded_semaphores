{
  "nbformat": 4,
  "nbformat_minor": 0,
  "metadata": {
    "colab": {
      "name": "Advance python 1.ipynb",
      "provenance": [],
      "authorship_tag": "ABX9TyOolP+ASKRXcDmgnM9ZUnzt",
      "include_colab_link": true
    },
    "kernelspec": {
      "name": "python3",
      "display_name": "Python 3"
    },
    "language_info": {
      "name": "python"
    }
  },
  "cells": [
    {
      "cell_type": "markdown",
      "metadata": {
        "id": "view-in-github",
        "colab_type": "text"
      },
      "source": [
        "<a href=\"https://colab.research.google.com/github/Shambhavi-Gupta/Adavnce-python_bounded_semaphores/blob/main/Advance_python_1.ipynb\" target=\"_parent\"><img src=\"https://colab.research.google.com/assets/colab-badge.svg\" alt=\"Open In Colab\"/></a>"
      ]
    },
    {
      "cell_type": "code",
      "metadata": {
        "id": "TQmTvYmigA67"
      },
      "source": [
        "\"\"\"\n",
        "A bounded semaphore checks to make\n",
        "sure its current value doesn’t exceed\n",
        "its initial value.If it does,\n",
        "ValueError is raised.\n",
        "\"\"\"\n",
        "import threading\n",
        "import time\n",
        "\n",
        "var = 3\n",
        "a = threading.BoundedSemaphore(value = var)\n",
        "def one():\n",
        "    a.acquire()\n",
        "    print(threading.current_thread().name + \"acquire the value\")\n",
        "    time.sleep(0.5)\n",
        "    a.release()\n",
        "    print(threading.current_thread().name + \"release the value\")\n",
        "\n",
        "names = []\n",
        "for i in range(1,5):\n",
        "    a_name = threading.Thread(name = \"Thread\" + str(i), target = one)\n",
        "    a_name.start()"
      ],
      "execution_count": null,
      "outputs": []
    }
  ]
}